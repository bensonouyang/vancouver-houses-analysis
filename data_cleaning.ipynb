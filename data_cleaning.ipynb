{
 "cells": [
  {
   "cell_type": "code",
   "execution_count": 2,
   "metadata": {},
   "outputs": [],
   "source": [
    "import ast\n",
    "import pandas as pd\n",
    "from geopy.geocoders import Nominatim\n",
    "from shapely.geometry import Point\n",
    "import numpy as np\n",
    "from shapely.geometry.polygon import LinearRing, Polygon\n",
    "import matplotlib.pyplot as plt\n",
    "import geopandas as gpd"
   ]
  },
  {
   "cell_type": "code",
   "execution_count": 3,
   "metadata": {},
   "outputs": [],
   "source": [
    "df = pd.read_csv('housedata.csv')"
   ]
  },
  {
   "cell_type": "code",
   "execution_count": 4,
   "metadata": {},
   "outputs": [],
   "source": [
    "dict = df.hdpData[0]\n",
    "result = ast.literal_eval(dict)\n",
    "hdpdf = pd.DataFrame(result['homeInfo'])\n",
    "for i in range(1,len(df.hdpData)):\n",
    "    dict = df.hdpData[i]\n",
    "    result = ast.literal_eval(dict)\n",
    "    dfholder = pd.DataFrame(result['homeInfo'])\n",
    "    if len(dfholder) > 1:\n",
    "        dfholder = dfholder.loc[['is_FSBA']]\n",
    "    dfholder = dfholder.astype({'isFeatured':bool,'shouldHighlight':bool,\n",
    "                                'listing_sub_type':bool, 'isUnmappable':bool,\n",
    "                                'isPreforeclosureAuction':bool, 'isNonOwnerOccupied':bool,\n",
    "                                'isPremierBuilder':bool,'isZillowOwned':bool\n",
    "                                })\n",
    "    hdpdf = pd.concat([hdpdf,dfholder])"
   ]
  },
  {
   "cell_type": "code",
   "execution_count": 5,
   "metadata": {},
   "outputs": [],
   "source": [
    "hdpdf.reset_index(inplace=True,drop = True)"
   ]
  },
  {
   "cell_type": "code",
   "execution_count": 24,
   "metadata": {},
   "outputs": [],
   "source": [
    "newhdpdf = hdpdf[['zpid', 'streetAddress', 'zipcode', 'city', 'state', 'latitude',\n",
    "'longitude', 'price', 'bathrooms', 'bedrooms', 'livingArea', 'homeType', 'priceForHDP', 'taxAssessedValue', 'lotAreaValue']]"
   ]
  },
  {
   "cell_type": "code",
   "execution_count": 7,
   "metadata": {},
   "outputs": [],
   "source": [
    "newdf = df[['id','imgSrc','hasImage','detailUrl', 'statusType','statusText','price','unformattedPrice', 'address',\n",
    "'addressStreet', 'addressCity', 'addressZipcode', 'isUndisclosedAddress', 'beds', 'baths', 'area', 'brokerName'\n",
    "]]"
   ]
  },
  {
   "cell_type": "code",
   "execution_count": 28,
   "metadata": {},
   "outputs": [],
   "source": [
    "newdf.to_csv('cleanhousedata.csv', index = False)\n",
    "newhdpdf.to_csv('cleanhdpdata.csv', index = False)"
   ]
  },
  {
   "cell_type": "code",
   "execution_count": null,
   "metadata": {},
   "outputs": [],
   "source": [
    "df = pd.read_csv('finaldataset.csv')"
   ]
  },
  {
   "cell_type": "code",
   "execution_count": null,
   "metadata": {},
   "outputs": [],
   "source": [
    "df.drop('priceForHDP', axis = 1, inplace = True)"
   ]
  },
  {
   "cell_type": "code",
   "execution_count": null,
   "metadata": {},
   "outputs": [],
   "source": [
    "# adapted from https://medium.com/python-in-plain-english/mapping-with-pythons-geopandas-2869bb758b08\n",
    "\n",
    "bnd_gdf = gpd.read_file('local-area-boundary/local-area-boundary.shp')\n",
    "ps_gdf = gpd.read_file('public-streets/public-streets.shp')\n",
    "\n",
    "poly = bnd_gdf['geometry']\n",
    "\n",
    "locations = poly.apply(lambda x: x.representative_point().coords[:])\n",
    "locations = [coords[0] for coords in locations]\n",
    "\n",
    "# x,y = poly.exterior[0].xy\n",
    "\n",
    "fig, ax = plt.subplots(1, figsize = (30,12))\n",
    "\n",
    "bnd_gdf.plot(ax = ax, color = 'black')\n",
    "ps_gdf.plot(ax = ax, color = 'white', alpha = 0.4)\n",
    "ax.axis('off')\n",
    "\n",
    "for i in range(len(poly) - 1):\n",
    "        x,y = poly.exterior[i].xy\n",
    "        plt.plot(x, y, color='#eb0707', alpha=0.7,\n",
    "            linewidth=3, solid_capstyle='round', zorder=2)\n",
    "        plt.annotate(text = bnd_gdf['name'][i], xy = locations[i], c = 'yellow',\n",
    "                 horizontalalignment='center', fontsize = 10)"
   ]
  },
  {
   "cell_type": "code",
   "execution_count": null,
   "metadata": {},
   "outputs": [],
   "source": [
    "newaddressList = []\n",
    "\n",
    "for i in range(len(df['streetAddress'])):\n",
    "    textaddress = df['streetAddress'].iloc[i]\n",
    "    newAddress = textaddress.split('#', 1)[0]\n",
    "    newAddress = newAddress.split('PENTHOUSE', 1)[0]\n",
    "    newaddressList.append(newAddress)\n",
    "\n",
    "df['newAddress'] = newaddressList"
   ]
  },
  {
   "cell_type": "code",
   "execution_count": null,
   "metadata": {},
   "outputs": [],
   "source": [
    "unknown_address = []\n",
    "\n",
    "for i in range(0,300):\n",
    "    y,x = df['latitude'].iloc[i],df['longitude'].iloc[i]\n",
    "\n",
    "    if np.isnan(y) == True or np.isnan(x) == True:\n",
    "        address = df['newAddress'].iloc[i]+ ' ' + df['city'].iloc[i]+ ' ' + df['state'].iloc[i]\n",
    "        geolocator = Nominatim(user_agent=\"Barry\")\n",
    "        location = geolocator.geocode(address)\n",
    "        try:\n",
    "            df.at[i,'latitude'] = location.latitude\n",
    "            df.at[i,'longitude'] = location.longitude\n",
    "        except:\n",
    "            unknown_address.append(df['newAddress'].iloc[i])"
   ]
  },
  {
   "cell_type": "code",
   "execution_count": null,
   "metadata": {},
   "outputs": [],
   "source": [
    "for i in range(300, 338):\n",
    "    y,x = df['latitude'].iloc[i],df['longitude'].iloc[i]\n",
    "\n",
    "    if np.isnan(y) == True or np.isnan(x) == True:\n",
    "        address = df['newAddress'].iloc[i]+ ' ' + df['city'].iloc[i]+ ' ' + df['state'].iloc[i]\n",
    "        geolocator = Nominatim(user_agent=\"Barry\")\n",
    "        location = geolocator.geocode(address)\n",
    "        try:\n",
    "            df.at[i,'latitude'] = location.latitude\n",
    "            df.at[i,'longitude'] = location.longitude\n",
    "        except:\n",
    "            unknown_address.append(df['newAddress'].iloc[i])"
   ]
  },
  {
   "cell_type": "code",
   "execution_count": null,
   "metadata": {},
   "outputs": [],
   "source": [
    "for i in range(339, 553):\n",
    "    y,x = df['latitude'].iloc[i],df['longitude'].iloc[i]\n",
    "\n",
    "    if np.isnan(y) == True or np.isnan(x) == True:\n",
    "        address = df['newAddress'].iloc[i]+ ' ' + df['city'].iloc[i]+ ' ' + df['state'].iloc[i]\n",
    "        geolocator = Nominatim(user_agent=\"Barry\")\n",
    "        location = geolocator.geocode(address)\n",
    "        try:\n",
    "            df.at[i,'latitude'] = location.latitude\n",
    "            df.at[i,'longitude'] = location.longitude\n",
    "        except:\n",
    "            unknown_address.append(df['newAddress'].iloc[i])"
   ]
  },
  {
   "cell_type": "code",
   "execution_count": null,
   "metadata": {},
   "outputs": [],
   "source": [
    "for i in range(554, 800):\n",
    "    y,x = df['latitude'].iloc[i],df['longitude'].iloc[i]\n",
    "\n",
    "    if np.isnan(y) == True or np.isnan(x) == True:\n",
    "        address = df['newAddress'].iloc[i]+ ' ' + df['city'].iloc[i]+ ' ' + df['state'].iloc[i]\n",
    "        geolocator = Nominatim(user_agent=\"Barry\")\n",
    "        location = geolocator.geocode(address)\n",
    "        try:\n",
    "            df.at[i,'latitude'] = location.latitude\n",
    "            df.at[i,'longitude'] = location.longitude\n",
    "        except:\n",
    "            unknown_address.append(df['newAddress'].iloc[i])"
   ]
  },
  {
   "cell_type": "code",
   "execution_count": null,
   "metadata": {},
   "outputs": [],
   "source": [
    "messed_up_latitude = 49.2823281\n",
    "messed_up_longitude = -123.1021128\n",
    "i = 338\n",
    "df.at[i,'latitude'] = messed_up_latitude\n",
    "df.at[i,'longitude'] = messed_up_longitude\n",
    "i = 553\n",
    "df.at[i,'latitude'] = messed_up_latitude\n",
    "df.at[i,'longitude'] = messed_up_longitude"
   ]
  },
  {
   "cell_type": "code",
   "execution_count": null,
   "metadata": {},
   "outputs": [],
   "source": [
    "# https://stackoverflow.com/questions/43892459/check-if-geo-point-is-inside-or-outside-of-polygon\n",
    "\n",
    "# checking every latitude and longitude to determine what neighbourhood house resides in\n",
    "neighbourhood_name = []\n",
    "for i in range(len(df['latitude'])):\n",
    "    checker = 0\n",
    "    y,x = df['latitude'].iloc[i],df['longitude'].iloc[i]\n",
    "\n",
    "    if np.isnan(y) == True or np.isnan(x) == True:\n",
    "        neighbourhood_name.append(np.nan)\n",
    "\n",
    "    else:\n",
    "        for name, poly in zip(bnd_gdf['name'],bnd_gdf['geometry']):\n",
    "            point = Point(x,y)\n",
    "            if poly.contains(point) == True:\n",
    "                neighbourhood_name.append(name)\n",
    "                checker = 1\n",
    "        if checker != 1:\n",
    "            neighbourhood_name.append(np.nan)"
   ]
  },
  {
   "cell_type": "code",
   "execution_count": null,
   "metadata": {},
   "outputs": [],
   "source": [
    "df['neighbourhoodName'] = neighbourhood_name"
   ]
  },
  {
   "cell_type": "code",
   "execution_count": null,
   "metadata": {},
   "outputs": [],
   "source": [
    "# df.to_csv('reviseddataset.csv', index = False)"
   ]
  },
  {
   "cell_type": "code",
   "execution_count": null,
   "metadata": {},
   "outputs": [],
   "source": [
    "df = pd.read_csv('reviseddataset.csv')"
   ]
  },
  {
   "cell_type": "code",
   "execution_count": null,
   "metadata": {},
   "outputs": [],
   "source": [
    "# checking where latitude is missing\n",
    "# df[df.latitude.isna()]"
   ]
  },
  {
   "cell_type": "code",
   "execution_count": null,
   "metadata": {},
   "outputs": [],
   "source": [
    "# check to see which columns had NAs\n",
    "# df.isna().sum()"
   ]
  },
  {
   "cell_type": "code",
   "execution_count": null,
   "metadata": {},
   "outputs": [],
   "source": [
    "coalharbourlat = 49.2918062\n",
    "coalharbourlong = -123.1285668\n",
    "df.at[581,'streetAddress'] = '1550 Coal Harbour Quay #L401'\n",
    "df.at[581,'newAddress'] = '1550 Coal Harbour Quay'\n",
    "df.at[581,'latitude'] = coalharbourlat\n",
    "df.at[581,'longitude'] = coalharbourlong"
   ]
  },
  {
   "cell_type": "code",
   "execution_count": null,
   "metadata": {},
   "outputs": [],
   "source": [
    "hastingslat = 49.2814934\n",
    "hastingslong = -123.09566373306427\n",
    "df.at[789,'streetAddress'] = '383 East Hastings St'\n",
    "df.at[789,'newAddress'] = '383 East Hastings St'\n",
    "df.at[789,'latitude'] = hastingslat\n",
    "df.at[789,'longitude'] = hastingslong"
   ]
  },
  {
   "cell_type": "code",
   "execution_count": null,
   "metadata": {},
   "outputs": [],
   "source": [
    "df = df.drop(index = 427)"
   ]
  },
  {
   "cell_type": "code",
   "execution_count": null,
   "metadata": {},
   "outputs": [],
   "source": [
    "df.at[481,'livingArea'] = 3712.0"
   ]
  },
  {
   "cell_type": "code",
   "execution_count": null,
   "metadata": {},
   "outputs": [],
   "source": [
    "df.at[(105,483,674),'lotAreaValue'] = 0.0"
   ]
  },
  {
   "cell_type": "code",
   "execution_count": null,
   "metadata": {},
   "outputs": [],
   "source": [
    "df.at[105,'brokerName'] = 'Oakwyn Realty Ltd. Brokerage'\n",
    "df.at[481,'brokerName'] = 'ICI Source Real Asset Services Inc. Brokerage'\n",
    "df.at[483,'brokerName'] = 'Engel & Volkers Vancouver Brokerage'\n",
    "df.at[674,'brokerName'] = 'Reign Realty Brokerage'\n"
   ]
  },
  {
   "cell_type": "code",
   "execution_count": null,
   "metadata": {},
   "outputs": [],
   "source": [
    "missingNeighbourname = df[df.neighbourhoodName.isna()]"
   ]
  },
  {
   "cell_type": "code",
   "execution_count": null,
   "metadata": {},
   "outputs": [],
   "source": [
    "bnd_gdf = gpd.read_file('local-area-boundary/local-area-boundary.shp')\n",
    "ps_gdf = gpd.read_file('public-streets/public-streets.shp')\n",
    "\n",
    "neighbourhood_name = []\n",
    "for i in range(len(missingNeighbourname['latitude'])):\n",
    "    checker = 0\n",
    "    y,x = missingNeighbourname['latitude'].iloc[i],missingNeighbourname['longitude'].iloc[i]\n",
    "\n",
    "    if np.isnan(y) == True or np.isnan(x) == True:\n",
    "        neighbourhood_name.append(np.nan)\n",
    "\n",
    "    else:\n",
    "        for name, poly in zip(bnd_gdf['name'],bnd_gdf['geometry']):\n",
    "            point = Point(x,y)\n",
    "            if poly.contains(point) == True:\n",
    "                neighbourhood_name.append(name)\n",
    "                checker = 1\n",
    "        if checker != 1:\n",
    "            neighbourhood_name.append(np.nan)"
   ]
  },
  {
   "cell_type": "code",
   "execution_count": null,
   "metadata": {},
   "outputs": [],
   "source": [
    "neighbourhood_name[0] = 'Renfrew-Collingwood'"
   ]
  },
  {
   "cell_type": "code",
   "execution_count": null,
   "metadata": {},
   "outputs": [],
   "source": [
    "df.at[(63,581,789), 'neighbourhoodName'] = neighbourhood_name"
   ]
  },
  {
   "cell_type": "code",
   "execution_count": null,
   "metadata": {},
   "outputs": [],
   "source": [
    "# df.to_csv('reviseddataset.csv', index = False)"
   ]
  }
 ],
 "metadata": {
  "kernelspec": {
   "display_name": "vanhouse",
   "language": "python",
   "name": "python3"
  },
  "language_info": {
   "codemirror_mode": {
    "name": "ipython",
    "version": 3
   },
   "file_extension": ".py",
   "mimetype": "text/x-python",
   "name": "python",
   "nbconvert_exporter": "python",
   "pygments_lexer": "ipython3",
   "version": "3.10.9"
  },
  "orig_nbformat": 4,
  "vscode": {
   "interpreter": {
    "hash": "d647ffe7d38ceba2ddbc0d41259d8c3741839d2e0ea0847e5b497e9ca8c27d20"
   }
  }
 },
 "nbformat": 4,
 "nbformat_minor": 2
}

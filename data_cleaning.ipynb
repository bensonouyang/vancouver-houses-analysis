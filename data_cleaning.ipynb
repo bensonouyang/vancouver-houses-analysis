{
 "cells": [
  {
   "cell_type": "code",
   "execution_count": 2,
   "metadata": {},
   "outputs": [],
   "source": [
    "import pandas as pd\n",
    "import ast"
   ]
  },
  {
   "cell_type": "code",
   "execution_count": 3,
   "metadata": {},
   "outputs": [],
   "source": [
    "df = pd.read_csv('housedata.csv')"
   ]
  },
  {
   "cell_type": "code",
   "execution_count": 4,
   "metadata": {},
   "outputs": [],
   "source": [
    "dict = df.hdpData[0]\n",
    "result = ast.literal_eval(dict)\n",
    "hdpdf = pd.DataFrame(result['homeInfo'])\n",
    "for i in range(1,len(df.hdpData)):\n",
    "    dict = df.hdpData[i]\n",
    "    result = ast.literal_eval(dict)\n",
    "    dfholder = pd.DataFrame(result['homeInfo'])\n",
    "    if len(dfholder) > 1:\n",
    "        dfholder = dfholder.loc[['is_FSBA']]\n",
    "    dfholder = dfholder.astype({'isFeatured':bool,'shouldHighlight':bool,\n",
    "                                'listing_sub_type':bool, 'isUnmappable':bool,\n",
    "                                'isPreforeclosureAuction':bool, 'isNonOwnerOccupied':bool,\n",
    "                                'isPremierBuilder':bool,'isZillowOwned':bool\n",
    "                                })\n",
    "    hdpdf = pd.concat([hdpdf,dfholder])"
   ]
  },
  {
   "cell_type": "code",
   "execution_count": 5,
   "metadata": {},
   "outputs": [],
   "source": [
    "hdpdf.reset_index(inplace=True,drop = True)"
   ]
  },
  {
   "cell_type": "code",
   "execution_count": 24,
   "metadata": {},
   "outputs": [],
   "source": [
    "newhdpdf = hdpdf[['zpid', 'streetAddress', 'zipcode', 'city', 'state', 'latitude',\n",
    "'longitude', 'price', 'bathrooms', 'bedrooms', 'livingArea', 'homeType', 'priceForHDP', 'taxAssessedValue', 'lotAreaValue']]"
   ]
  },
  {
   "cell_type": "code",
   "execution_count": 7,
   "metadata": {},
   "outputs": [],
   "source": [
    "newdf = df[['id','imgSrc','hasImage','detailUrl', 'statusType','statusText','price','unformattedPrice', 'address',\n",
    "'addressStreet', 'addressCity', 'addressZipcode', 'isUndisclosedAddress', 'beds', 'baths', 'area', 'brokerName'\n",
    "]]"
   ]
  },
  {
   "cell_type": "code",
   "execution_count": 28,
   "metadata": {},
   "outputs": [],
   "source": [
    "newdf.to_csv('cleanhousedata.csv', index = False)\n",
    "newhdpdf.to_csv('cleanhdpdata.csv', index = False)"
   ]
  },
  {
   "cell_type": "code",
   "execution_count": null,
   "metadata": {},
   "outputs": [],
   "source": []
  }
 ],
 "metadata": {
  "kernelspec": {
   "display_name": "vanhouse",
   "language": "python",
   "name": "python3"
  },
  "language_info": {
   "codemirror_mode": {
    "name": "ipython",
    "version": 3
   },
   "file_extension": ".py",
   "mimetype": "text/x-python",
   "name": "python",
   "nbconvert_exporter": "python",
   "pygments_lexer": "ipython3",
   "version": "3.10.9"
  },
  "orig_nbformat": 4,
  "vscode": {
   "interpreter": {
    "hash": "d647ffe7d38ceba2ddbc0d41259d8c3741839d2e0ea0847e5b497e9ca8c27d20"
   }
  }
 },
 "nbformat": 4,
 "nbformat_minor": 2
}

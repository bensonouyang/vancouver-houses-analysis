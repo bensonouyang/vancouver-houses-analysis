{
 "cells": [
  {
   "cell_type": "code",
   "execution_count": 1,
   "metadata": {},
   "outputs": [],
   "source": [
    "import pandas as pd\n",
    "import requests\n",
    "from bs4 import BeautifulSoup\n",
    "import json\n",
    "import re"
   ]
  },
  {
   "cell_type": "code",
   "execution_count": 39,
   "metadata": {},
   "outputs": [],
   "source": [
    "# http://myhttpheader.com/\n",
    "# https://data-ox.com/scraping-zillow-a-detailed-guide/#bs\n",
    "header = {\n",
    "    'accept':'text/html,application/xhtml+xml,application/xml;q=0.9,image/avif,image/webp,image/apng,*/*;q=0.8,application/signed-exchange;v=b3;q=0.9',\n",
    "    'accept-encoding':'gzip, deflate',\n",
    "    'accept-language':'en-US,en;q=0.9',\n",
    "    'upgrade-insecure-requests':'1',\n",
    "    'user-agent':'Mozilla/5.0 (Windows NT 10.0; Win64; x64) AppleWebKit/537.36 (KHTML, like Gecko) Chrome/109.0.0.0 Safari/537.36'\n",
    "}\n",
    "req = requests.get(\"https://www.zillow.com/vancouver-bc/1_p\",headers = header)\n",
    "#soup = BeautifulSoup(req.content, 'html.parser')\n",
    "#house = soup.find(\"div\", {\"class\": \"result-list-container\"})\n",
    "\n",
    "# https://stackoverflow.com/questions/71985105/beautifulsoup-find-all-not-finding-all-containers-of-a-class\n",
    "data = json.loads(re.search(r'!--(\\{\"queryState\".*?)-->', req.text).group(1))\n",
    "#print(data['cat1'])\n",
    "#print(data['cat1']['searchList'].keys())\n",
    "df = pd.DataFrame(data['cat1']['searchResults']['listResults'])\n",
    "\n"
   ]
  },
  {
   "cell_type": "code",
   "execution_count": 40,
   "metadata": {},
   "outputs": [],
   "source": [
    "for pagenumber in range(2,21):\n",
    "    website = f\"https://www.zillow.com/vancouver-bc/{pagenumber}_p/\"\n",
    "    req = requests.get(website, headers = header)\n",
    "    data = json.loads(re.search(r'!--(\\{\"queryState\".*?)-->', req.text).group(1))\n",
    "    newinfo = pd.DataFrame(data['cat1']['searchResults']['listResults'])\n",
    "    df = pd.concat([df,newinfo])\n",
    "    "
   ]
  },
  {
   "cell_type": "code",
   "execution_count": 42,
   "metadata": {},
   "outputs": [],
   "source": [
    "df.to_csv('housedata.csv', index = False)"
   ]
  },
  {
   "cell_type": "code",
   "execution_count": 34,
   "metadata": {},
   "outputs": [
    {
     "data": {
      "text/plain": [
       "\" b = []\\nba = []\\nsqft = []\\ncounter = 1\\n\\nfor i in range(0,7):\\n    for li in house[i].find_all('div', {'class':'StyledPropertyCardDataArea-c11n-8-82-3__sc-yipmu-0 eTKvfN'}):\\n        for row in li.find_all('li'):\\n            for text in row.find_all('b'):\\n                if counter == 1:\\n                    b.append(text.get_text())\\n                    \\n                elif counter == 2:\\n                    ba.append(text.get_text())\\n                    \\n                else:\\n                    sqft.append(text.get_text())\\n                    counter = 0\\n                counter = counter + 1\\n\\n# fix nonetype\\n# loop to find address and geolocation and type of home\\nfor li in house.find('ul'):\\n    for row in li.find('script'):\\n        print(row) \""
      ]
     },
     "execution_count": 34,
     "metadata": {},
     "output_type": "execute_result"
    }
   ],
   "source": [
    "# # OLD CODE TO SCRAPE DATA\n",
    "\n",
    "# b = []\n",
    "# ba = []\n",
    "# sqft = []\n",
    "# counter = 1\n",
    "\n",
    "# for i in range(0,7):\n",
    "#     for li in house[i].find_all('div', {'class':'StyledPropertyCardDataArea-c11n-8-82-3__sc-yipmu-0 eTKvfN'}):\n",
    "#         for row in li.find_all('li'):\n",
    "#             for text in row.find_all('b'):\n",
    "#                 if counter == 1:\n",
    "#                     b.append(text.get_text())\n",
    "                    \n",
    "#                 elif counter == 2:\n",
    "#                     ba.append(text.get_text())\n",
    "                    \n",
    "#                 else:\n",
    "#                     sqft.append(text.get_text())\n",
    "#                     counter = 0\n",
    "#                 counter = counter + 1\n",
    "\n",
    "# # fix nonetype\n",
    "# # loop to find address and geolocation and type of home\n",
    "# for li in house.find('ul'):\n",
    "#     for row in li.find('script'):\n",
    "#         print(row)"
   ]
  },
  {
   "cell_type": "code",
   "execution_count": null,
   "metadata": {},
   "outputs": [],
   "source": []
  },
  {
   "cell_type": "code",
   "execution_count": null,
   "metadata": {},
   "outputs": [],
   "source": []
  },
  {
   "cell_type": "code",
   "execution_count": null,
   "metadata": {},
   "outputs": [],
   "source": []
  }
 ],
 "metadata": {
  "kernelspec": {
   "display_name": "vanhouse",
   "language": "python",
   "name": "python3"
  },
  "language_info": {
   "codemirror_mode": {
    "name": "ipython",
    "version": 3
   },
   "file_extension": ".py",
   "mimetype": "text/x-python",
   "name": "python",
   "nbconvert_exporter": "python",
   "pygments_lexer": "ipython3",
   "version": "3.10.9"
  },
  "orig_nbformat": 4,
  "vscode": {
   "interpreter": {
    "hash": "d647ffe7d38ceba2ddbc0d41259d8c3741839d2e0ea0847e5b497e9ca8c27d20"
   }
  }
 },
 "nbformat": 4,
 "nbformat_minor": 2
}

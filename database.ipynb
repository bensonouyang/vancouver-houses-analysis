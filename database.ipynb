{
 "cells": [
  {
   "cell_type": "code",
   "execution_count": 1,
   "metadata": {},
   "outputs": [],
   "source": [
    "from google.cloud import bigquery\n",
    "from google.oauth2 import service_account\n",
    "import pandas as pd"
   ]
  },
  {
   "cell_type": "code",
   "execution_count": 2,
   "metadata": {},
   "outputs": [],
   "source": [
    "# Key.json contains information for service account to connect to BigQuery API\n",
    "credentials = service_account.Credentials.from_service_account_file('key.json')\n",
    "project_id = 'zillow-houses-376821'\n",
    "client = bigquery.Client(credentials = credentials, project = project_id)"
   ]
  },
  {
   "cell_type": "code",
   "execution_count": 21,
   "metadata": {},
   "outputs": [],
   "source": [
    "# https://medium.com/pipeline-a-data-engineering-resource/automate-your-bigquery-schema-definitions-with-5-lines-of-python-7a1996749718\n",
    "# Automate schema creation\n",
    "\n",
    "def create_schema(field_list:list, type_list:list):\n",
    "    schema_list = []\n",
    "    for fields, types in zip(field_list, type_list):\n",
    "        schema = bigquery.SchemaField(fields, types)\n",
    "        schema_list.append(schema)\n",
    "    return schema_list\n",
    "\n",
    "# Function to load dataframe into BigQuery\n",
    "\n",
    "def bq_load(df, dataset_id: str, table_id: str, schema, client):\n",
    "    bq_client = client\n",
    "    dataset_ref = bq_client.dataset(dataset_id)\n",
    "    dataset_table_id = dataset_ref.table(table_id)\n",
    "    \n",
    "    job_config = bigquery.LoadJobConfig()\n",
    "    job_config.write_disposition='WRITE_TRUNCATE'\n",
    "    job_config.source_format = bigquery.SourceFormat.CSV\n",
    "    job_config.autodetect=False\n",
    "    # Calling create_schema()\n",
    "    job_config.schema = schema\n",
    "    job_config.ignore_unknown_values=False\n",
    "    job = client.load_table_from_dataframe(df,\n",
    "    table_id,\n",
    "    location='US',\n",
    "    job_config=job_config)\n",
    "    \n",
    "    return job.result()"
   ]
  },
  {
   "cell_type": "code",
   "execution_count": null,
   "metadata": {},
   "outputs": [],
   "source": [
    "# Manual schema creation\n",
    "\n",
    "# schema = [\n",
    "#     bigquery.SchemaField(\"zpid\", \"INTEGER\"),\n",
    "#     bigquery.SchemaField(\"streetAddress\", \"STRING\"),\n",
    "#     bigquery.SchemaField(\"zipcode\", \"STRING\"),\n",
    "#     bigquery.SchemaField(\"city\", \"STRING\"),\n",
    "#     bigquery.SchemaField(\"state\",\"STRING\"),\n",
    "#     bigquery.SchemaField(\"latitude\", \"NUMERIC\"),\n",
    "#     bigquery.SchemaField(\"longitude\", \"NUMERIC\"),\n",
    "#     bigquery.SchemaField(\"price\", \"INTEGER\"),\n",
    "#     bigquery.SchemaField(\"bathrooms\", \"FLOAT64\"),\n",
    "#     bigquery.SchemaField(\"bedrooms\", \"FLOAT64\"),\n",
    "#     bigquery.SchemaField(\"livingArea\", \"FLOAT64\"),\n",
    "#     bigquery.SchemaField(\"homeType\", \"STRING\"),\n",
    "#     bigquery.SchemaField(\"taxAssessedValue\", \"FLOAT64\"),\n",
    "#     bigquery.SchemaField(\"brokerName\", \"STRING\")\n",
    "# ]"
   ]
  },
  {
   "cell_type": "code",
   "execution_count": 43,
   "metadata": {},
   "outputs": [],
   "source": [
    "# df_to_bq = bq_load(df, \"zillow_houses\", \"zillow-houses-376821.zillow_houses.vancouverhouses\", create_schema(field_list,type_list), client)"
   ]
  },
  {
   "cell_type": "code",
   "execution_count": 10,
   "metadata": {},
   "outputs": [],
   "source": [
    "df = pd.read_csv('data/reviseddataset.csv')"
   ]
  },
  {
   "cell_type": "code",
   "execution_count": 11,
   "metadata": {},
   "outputs": [],
   "source": [
    "df = df.rename(columns = {'newAddress':'addressWithoutUnit'})"
   ]
  },
  {
   "cell_type": "code",
   "execution_count": 12,
   "metadata": {},
   "outputs": [
    {
     "data": {
      "text/plain": [
       "Index(['zpid', 'streetAddress', 'zipcode', 'city', 'state', 'latitude',\n",
       "       'longitude', 'price', 'bathrooms', 'bedrooms', 'livingArea', 'homeType',\n",
       "       'taxAssessedValue', 'lotAreaValue', 'brokerName', 'neighbourhoodName',\n",
       "       'addressWithoutUnit'],\n",
       "      dtype='object')"
      ]
     },
     "execution_count": 12,
     "metadata": {},
     "output_type": "execute_result"
    }
   ],
   "source": [
    "df.columns"
   ]
  },
  {
   "cell_type": "code",
   "execution_count": 50,
   "metadata": {},
   "outputs": [],
   "source": [
    "# df = df.drop(219)"
   ]
  },
  {
   "cell_type": "code",
   "execution_count": null,
   "metadata": {},
   "outputs": [],
   "source": []
  },
  {
   "cell_type": "code",
   "execution_count": 18,
   "metadata": {},
   "outputs": [],
   "source": [
    "location = df[['zpid', 'streetAddress', 'zipcode', 'city', 'state', 'latitude', 'longitude','addressWithoutUnit']]\n",
    "homeinfo = df[['streetAddress', 'price', 'bathrooms', 'bedrooms', 'livingArea', 'homeType', 'taxAssessedValue', 'lotAreaValue', 'neighbourhoodName']]\n",
    "brokerageinfo = df[['zpid','brokerName']]"
   ]
  },
  {
   "cell_type": "code",
   "execution_count": 19,
   "metadata": {},
   "outputs": [],
   "source": [
    "# Gathering the types of each column and appending BigQuery datatype to list\n",
    "\n",
    "def type_list_generator(df):\n",
    "    type_list = []\n",
    "\n",
    "    for column in df.columns:\n",
    "        if df[column].dtype == 'object':\n",
    "            type_list.append(\"STRING\")\n",
    "        elif df[column].dtype == 'float64':\n",
    "            type_list.append(\"FLOAT64\")\n",
    "        else:\n",
    "            type_list.append(\"INTEGER\")\n",
    "    return type_list\n",
    "\n",
    "# Gathering every column name\n",
    "def field_list_generator(df):\n",
    "    field_list = list(df.columns)\n",
    "    return field_list"
   ]
  },
  {
   "cell_type": "code",
   "execution_count": 53,
   "metadata": {},
   "outputs": [],
   "source": [
    "# load relations to bigQuery\n",
    "\n",
    "location_to_bq = bq_load(location, \"zillow_houses\", \"zillow-houses-376821.zillow_houses.location\", \n",
    "                         create_schema(field_list_generator(location),type_list_generator(location)), client)\n",
    "\n",
    "homeinfo_to_bq = bq_load(homeinfo, \"zillow_houses\", \"zillow-houses-376821.zillow_houses.homeinfo\", \n",
    "                         create_schema(field_list_generator(homeinfo),type_list_generator(homeinfo)), client)\n",
    "\n",
    "brokerageinfo_to_bq = bq_load(brokerageinfo, \"zillow_houses\", \"zillow-houses-376821.zillow_houses.brokerageinfo\", \n",
    "                              create_schema(field_list_generator(brokerageinfo),type_list_generator(brokerageinfo)), client)"
   ]
  },
  {
   "cell_type": "code",
   "execution_count": 3,
   "metadata": {},
   "outputs": [
    {
     "name": "stdout",
     "output_type": "stream",
     "text": [
      "         zpid            streetAddress zipcode       city state   latitude  \\\n",
      "0   314396616           2973 McGill St  V5K1H8  Vancouver    BC  49.289010   \n",
      "1   314397260           2565 Dundas St  V5K1P7  Vancouver    BC  49.285038   \n",
      "2   314397306           2697 Dundas St  V5K1R1  Vancouver    BC  49.285027   \n",
      "3   314398013         3466 Franklin St  V5K1Y3  Vancouver    BC  49.281788   \n",
      "4   314398017         3467 Franklin St  V5K1Y4  Vancouver    BC  49.282303   \n",
      "5   314398025         3495 Franklin St  V5K1Y4  Vancouver    BC  49.282300   \n",
      "6  2059767952  2741 Hastings St E #303  V5K1Z8  Vancouver    BC  49.281414   \n",
      "7  2059768478        3537 Georgia St E  V5K2J4  Vancouver    BC  49.278503   \n",
      "8  2060865873     3523 Georgia St E #2  V5K2L9  Vancouver    BC  49.278477   \n",
      "9   314399067           2447 Adanac St  V5K2M3  Vancouver    BC  49.277690   \n",
      "\n",
      "    longitude   addressWithoutUnit  \n",
      "0 -123.042404       2973 McGill St  \n",
      "1 -123.052950       2565 Dundas St  \n",
      "2 -123.049650       2697 Dundas St  \n",
      "3 -123.029305     3466 Franklin St  \n",
      "4 -123.029175     3467 Franklin St  \n",
      "5 -123.028620     3495 Franklin St  \n",
      "6 -123.048355  2741 Hastings St E   \n",
      "7 -123.056305    3537 Georgia St E  \n",
      "8 -123.027530   3523 Georgia St E   \n",
      "9 -123.055460       2447 Adanac St  \n"
     ]
    }
   ],
   "source": [
    "# Testing query\n",
    "\n",
    "initial_query = \"\"\" \n",
    "\n",
    "SELECT * FROM `zillow-houses-376821.zillow_houses.location` LIMIT 10\n",
    "\n",
    "\"\"\"\n",
    "\n",
    "query_results = client.query(initial_query).to_dataframe()\n",
    "\n",
    "print(query_results)"
   ]
  },
  {
   "cell_type": "code",
   "execution_count": 54,
   "metadata": {},
   "outputs": [],
   "source": [
    "# Top 5 lowest $/sq ft per neighbourhood\n",
    "\n",
    "top5lowestpricepersqft = \"\"\" \n",
    "\n",
    "WITH dollar_sqft_calculations AS (\n",
    "    SELECT streetAddress, neighbourhoodName, \n",
    "    bathrooms, bedrooms,\n",
    "    price, livingArea, homeType, round(price/livingArea,2) as dollarPerSqFt\n",
    "    FROM `zillow-houses-376821.zillow_houses.homeinfo`\n",
    "),\n",
    "ranking_dollarpersq AS (\n",
    "    SELECT *, \n",
    "    rank() over (PARTITION BY neighbourhoodName ORDER BY dollarPerSqFt) as ranking\n",
    "    FROM dollar_sqft_calculations\n",
    ")\n",
    "\n",
    "SELECT * FROM ranking_dollarpersq WHERE ranking <= 5 \n",
    "\n",
    "\"\"\"\n",
    "\n",
    "query_results = client.query(top5lowestpricepersqft).to_dataframe()\n",
    "\n"
   ]
  },
  {
   "cell_type": "code",
   "execution_count": 55,
   "metadata": {},
   "outputs": [
    {
     "name": "stdout",
     "output_type": "stream",
     "text": [
      "                   streetAddress neighbourhoodName  bathrooms  bedrooms  \\\n",
      "0            3445 E 49th Ave #98            Sunset        2.0       4.0   \n",
      "1                1322 E 62nd Ave            Sunset        6.0       6.0   \n",
      "2                1045 E 63rd Ave            Sunset        4.0       6.0   \n",
      "3                 268 E 65th Ave            Sunset        3.0       5.0   \n",
      "4                 320 E 57th Ave            Sunset        3.0       5.0   \n",
      "..                           ...               ...        ...       ...   \n",
      "104               1055 Wolfe Ave       Shaughnessy        5.0       8.0   \n",
      "105           1056 Richelieu Ave       Shaughnessy        3.0       5.0   \n",
      "106  1011 King Edward Ave W #201       Shaughnessy        2.0       2.0   \n",
      "107                4549 Osler St       Shaughnessy        6.0       6.0   \n",
      "108                5290 Angus Dr       Shaughnessy        4.0       6.0   \n",
      "\n",
      "         price  livingArea       homeType  dollarPerSqFt  ranking  \n",
      "0     833000.0      1393.0      TOWNHOUSE         597.99        1  \n",
      "1    2388000.0      3955.0  SINGLE_FAMILY         603.79        2  \n",
      "2    1699000.0      2800.0  SINGLE_FAMILY         606.79        3  \n",
      "3    1649000.0      2632.0  SINGLE_FAMILY         626.52        4  \n",
      "4    1675000.0      2453.0  SINGLE_FAMILY         682.84        5  \n",
      "..         ...         ...            ...            ...      ...  \n",
      "104  4988000.0      5765.0  SINGLE_FAMILY         865.22        1  \n",
      "105  4450000.0      5143.0  SINGLE_FAMILY         865.25        2  \n",
      "106   799900.0       902.0          CONDO         886.81        3  \n",
      "107  4998000.0      5327.0  SINGLE_FAMILY         938.24        4  \n",
      "108  3999000.0      3764.0  SINGLE_FAMILY        1062.43        5  \n",
      "\n",
      "[109 rows x 9 columns]\n"
     ]
    }
   ],
   "source": [
    "print(query_results)"
   ]
  },
  {
   "cell_type": "code",
   "execution_count": 56,
   "metadata": {},
   "outputs": [],
   "source": [
    "query_results.to_csv('queries/Top5LowestDollarPerSqft.csv', index = False)"
   ]
  },
  {
   "cell_type": "code",
   "execution_count": 57,
   "metadata": {},
   "outputs": [],
   "source": [
    "# Top 3 highest price per neighbourhood\n",
    "\n",
    "top3highestprice = \"\"\" \n",
    "\n",
    "WITH top_3_rank AS (\n",
    "    SELECT streetAddress, neighbourhoodName, \n",
    "    bathrooms, bedrooms,\n",
    "    price, livingArea, homeType, \n",
    "    round(price/livingArea,2) as dollarPerSqFt,\n",
    "    rank() over (PARTITION BY neighbourhoodName ORDER BY price DESC) as ranking\n",
    "    FROM `zillow-houses-376821.zillow_houses.homeinfo`\n",
    ")\n",
    "\n",
    "SELECT * FROM top_3_rank WHERE ranking <= 3 \n",
    "\n",
    "\"\"\"\n",
    "\n",
    "query2_results = client.query(top3highestprice).to_dataframe()"
   ]
  },
  {
   "cell_type": "code",
   "execution_count": 58,
   "metadata": {},
   "outputs": [
    {
     "name": "stdout",
     "output_type": "stream",
     "text": [
      "            streetAddress    neighbourhoodName  bathrooms  bedrooms  \\\n",
      "0        4838 Belmont Ave      West Point Grey        8.0       5.0   \n",
      "1        4788 Belmont Ave      West Point Grey       11.0       7.0   \n",
      "2        1784 Drummond Dr      West Point Grey        2.0       4.0   \n",
      "3   2112 Prince Edward St       Mount Pleasant        4.0       3.0   \n",
      "4           20 W 14th Ave       Mount Pleasant        2.0       4.0   \n",
      "..                    ...                  ...        ...       ...   \n",
      "62           3601 Rae Ave  Renfrew-Collingwood        3.0       3.0   \n",
      "63        2647 E 21st Ave  Renfrew-Collingwood        2.0       4.0   \n",
      "64        5038 Arbutus St        Arbutus-Ridge        9.0       6.0   \n",
      "65        2475 W 34th Ave        Arbutus-Ridge        7.0       6.0   \n",
      "66          4723 Puget Dr        Arbutus-Ridge        8.0       7.0   \n",
      "\n",
      "         price  livingArea       homeType  dollarPerSqFt  ranking  \n",
      "0   59800000.0     12410.0  SINGLE_FAMILY        4818.69        1  \n",
      "1   33888000.0     10548.0  SINGLE_FAMILY        3212.74        2  \n",
      "2   21800000.0      2929.0  SINGLE_FAMILY        7442.81        3  \n",
      "3    2349800.0      2062.0  SINGLE_FAMILY        1139.57        1  \n",
      "4    1990000.0      2208.0  SINGLE_FAMILY         901.27        2  \n",
      "..         ...         ...            ...            ...      ...  \n",
      "62   1890000.0      1230.0      TOWNHOUSE        1536.59        3  \n",
      "63   1890000.0      2368.0  SINGLE_FAMILY         798.14        3  \n",
      "64  11880880.0      4542.0  SINGLE_FAMILY        2615.78        1  \n",
      "65   7988000.0      5348.0  SINGLE_FAMILY        1493.64        2  \n",
      "66   6980000.0      4865.0  SINGLE_FAMILY        1434.74        3  \n",
      "\n",
      "[67 rows x 9 columns]\n"
     ]
    }
   ],
   "source": [
    "print(query2_results)"
   ]
  },
  {
   "cell_type": "code",
   "execution_count": 59,
   "metadata": {},
   "outputs": [],
   "source": [
    "query2_results.to_csv('queries/Top3HighestPrice.csv', index = False)"
   ]
  },
  {
   "cell_type": "code",
   "execution_count": 60,
   "metadata": {},
   "outputs": [],
   "source": [
    "# Top 3 lowest price per neighbourhood\n",
    "\n",
    "top3lowestprice = \"\"\" \n",
    "\n",
    "WITH top_3_rank AS (\n",
    "    SELECT streetAddress, neighbourhoodName, \n",
    "    bathrooms, bedrooms,\n",
    "    price, livingArea, homeType, \n",
    "    round(price/livingArea,2) as dollarPerSqFt,\n",
    "    rank() over (PARTITION BY neighbourhoodName ORDER BY price) as ranking\n",
    "    FROM `zillow-houses-376821.zillow_houses.homeinfo`\n",
    ")\n",
    "\n",
    "SELECT * FROM top_3_rank WHERE ranking <= 3 \n",
    "\n",
    "\"\"\"\n",
    "\n",
    "query3_results = client.query(top3lowestprice).to_dataframe()"
   ]
  },
  {
   "cell_type": "code",
   "execution_count": 61,
   "metadata": {},
   "outputs": [
    {
     "name": "stdout",
     "output_type": "stream",
     "text": [
      "               streetAddress   neighbourhoodName  bathrooms  bedrooms  \\\n",
      "0       1055 Broadway E #204            Fairview        1.0       1.0   \n",
      "1       1551 W 11th Ave #208            Fairview        1.0       1.0   \n",
      "2       1216 W 11th Ave #206            Fairview        1.0       1.0   \n",
      "3          2224 Eton St #103  Grandview-Woodland        1.0       0.0   \n",
      "4        1533 E 8th Ave #101  Grandview-Woodland        1.0       1.0   \n",
      "..                       ...                 ...        ...       ...   \n",
      "62  489 Interurban Way #1505             Marpole        1.0       1.0   \n",
      "63   489 Interurban Way #710             Marpole        1.0       1.0   \n",
      "64      5926 Tisdall St #506            Oakridge        1.0       2.0   \n",
      "65      2146 W 43rd Ave #201            Oakridge        1.0       2.0   \n",
      "66          5770 Oak St #212            Oakridge        1.0       1.0   \n",
      "\n",
      "       price  livingArea homeType  dollarPerSqFt  ranking  \n",
      "0   550000.0       518.0    CONDO        1061.78        1  \n",
      "1   555000.0       685.0    CONDO         810.22        2  \n",
      "2   558000.0       865.0    CONDO         645.09        3  \n",
      "3   434000.0       435.0    CONDO         997.70        1  \n",
      "4   649900.0       595.0    CONDO        1092.27        2  \n",
      "..       ...         ...      ...            ...      ...  \n",
      "62  548000.0       468.0    CONDO        1170.94        2  \n",
      "63  599000.0       561.0    CONDO        1067.74        3  \n",
      "64  498000.0       946.0    CONDO         526.43        1  \n",
      "65  499000.0      1059.0    CONDO         471.20        2  \n",
      "66  650000.0       813.0    CONDO         799.51        3  \n",
      "\n",
      "[67 rows x 9 columns]\n"
     ]
    }
   ],
   "source": [
    "print(query3_results)"
   ]
  },
  {
   "cell_type": "code",
   "execution_count": 62,
   "metadata": {},
   "outputs": [],
   "source": [
    "query3_results.to_csv('queries/Top3LowestPrice.csv', index = False)"
   ]
  },
  {
   "cell_type": "code",
   "execution_count": 63,
   "metadata": {},
   "outputs": [],
   "source": [
    "# Brokerage and total number of units they list, avg price, top neighbourhood listed\n",
    "\n",
    "brokeragedetails = \"\"\" \n",
    "\n",
    "WITH brokerage_count_avg AS (\n",
    "    SELECT bi.brokerName, count(*) as number_of_listings, \n",
    "    avg(hi.price) as average_listing_price\n",
    "    FROM `zillow-houses-376821.zillow_houses.brokerageinfo` bi JOIN\n",
    "    `zillow-houses-376821.zillow_houses.location` l \n",
    "    ON bi.zpid = l.zpid\n",
    "    JOIN `zillow-houses-376821.zillow_houses.homeinfo` hi \n",
    "    ON l.streetAddress = hi.streetAddress\n",
    "    GROUP BY bi.brokerName\n",
    "),\n",
    "brokerage_neighbourhood AS (\n",
    "    SELECT bi.brokerName, hi.neighbourhoodName, \n",
    "    count(hi.neighbourhoodName) as number_of_houses\n",
    "    FROM `zillow-houses-376821.zillow_houses.brokerageinfo` bi JOIN\n",
    "    `zillow-houses-376821.zillow_houses.location` l \n",
    "    ON bi.zpid = l.zpid\n",
    "    JOIN `zillow-houses-376821.zillow_houses.homeinfo` hi \n",
    "    ON l.streetAddress = hi.streetAddress\n",
    "    group by bi.brokerName, hi.neighbourhoodName\n",
    "),\n",
    "brokerage_n_rank AS (\n",
    "    SELECT \n",
    "        *,\n",
    "        rank() over (partition by brokerName \n",
    "        order by number_of_houses DESC) AS ranking\n",
    "    FROM brokerage_neighbourhood \n",
    ")\n",
    "\n",
    "SELECT \n",
    "    bca.brokerName, bn.neighbourhoodName as top_listed_neighbourhood,\n",
    "    bca.number_of_listings AS total_listings, bca.average_listing_price,\n",
    "    bn.number_of_houses as listing_in_neighbourhood\n",
    "    FROM brokerage_count_avg bca JOIN brokerage_n_rank bn\n",
    "    ON bca.brokerName = bn.brokerName\n",
    "    WHERE bn.ranking = 1\n",
    "    ORDER BY number_of_listings DESC\n",
    "\"\"\"\n",
    "\n",
    "query4_results = client.query(brokeragedetails).to_dataframe()"
   ]
  },
  {
   "cell_type": "code",
   "execution_count": 64,
   "metadata": {},
   "outputs": [
    {
     "name": "stdout",
     "output_type": "stream",
     "text": [
      "                                   brokerName top_listed_neighbourhood  \\\n",
      "0               RE/MAX Crest Realty Brokerage                 Downtown   \n",
      "1    Sutton Group-West Coast Realty Brokerage                 Downtown   \n",
      "2                Oakwyn Realty Ltd. Brokerage                 Downtown   \n",
      "3                  Macdonald Realty Brokerage                 Downtown   \n",
      "4     Stilhavn Real Estate Services Brokerage                 Downtown   \n",
      "..                                        ...                      ...   \n",
      "183           RE/MAX Elevate Realty Brokerage                 Downtown   \n",
      "184       Argus Estates (1983) Ltd. Brokerage      Renfrew-Collingwood   \n",
      "185               Umber Realty Inc. Brokerage       Grandview-Woodland   \n",
      "186             SRS Westside Realty Brokerage                   Sunset   \n",
      "187             eXp Realty (Branch) Brokerage      Renfrew-Collingwood   \n",
      "\n",
      "     total_listings  average_listing_price  listing_in_neighbourhood  \n",
      "0                70           2.440918e+06                        16  \n",
      "1                62           4.154714e+06                         9  \n",
      "2                52           1.862890e+06                        18  \n",
      "3                42           3.837388e+06                         9  \n",
      "4                27           3.042489e+06                         6  \n",
      "..              ...                    ...                       ...  \n",
      "183               1           1.680000e+06                         1  \n",
      "184               1           1.248000e+06                         1  \n",
      "185               1           1.488000e+06                         1  \n",
      "186               1           1.498000e+06                         1  \n",
      "187               1           7.998880e+05                         1  \n",
      "\n",
      "[188 rows x 5 columns]\n"
     ]
    }
   ],
   "source": [
    "print(query4_results)"
   ]
  },
  {
   "cell_type": "code",
   "execution_count": 65,
   "metadata": {},
   "outputs": [],
   "source": [
    "query4_results.to_csv('queries/BrokerageDetails.csv', index = False)"
   ]
  },
  {
   "cell_type": "code",
   "execution_count": 66,
   "metadata": {},
   "outputs": [],
   "source": [
    "# Top 3 bathrooms/bedrooms per sq ft per neighbourhood\n",
    "\n",
    "Top3BdBaPerSqft = \"\"\" \n",
    "\n",
    "WITH calculations AS (\n",
    "    SELECT\n",
    "        streetAddress, price, bathrooms, bedrooms, livingArea, homeType,\n",
    "        bathrooms/livingArea as ba_per_sqft, bedrooms/livingArea as br_per_sqft,\n",
    "        neighbourhoodName\n",
    "    FROM `zillow-houses-376821.zillow_houses.homeinfo`\n",
    "),\n",
    "ranking as (\n",
    "    SELECT \n",
    "        *, rank() OVER (PARTITION BY neighbourhoodName \n",
    "            ORDER BY ba_per_sqft DESC) as ranking_ba,\n",
    "        rank() OVER (PARTITION BY neighbourhoodName \n",
    "            ORDER BY br_per_sqft DESC) as ranking_br\n",
    "    FROM calculations\n",
    ")\n",
    "\n",
    "SELECT \n",
    "    * FROM ranking WHERE ranking_ba <= 3 or ranking_br <= 3\n",
    "\n",
    "\n",
    "\"\"\"\n",
    "\n",
    "query5_results = client.query(Top3BdBaPerSqft).to_dataframe()"
   ]
  },
  {
   "cell_type": "code",
   "execution_count": 67,
   "metadata": {},
   "outputs": [
    {
     "name": "stdout",
     "output_type": "stream",
     "text": [
      "            streetAddress      price  bathrooms  bedrooms  livingArea  \\\n",
      "0         2843 E 20th Ave  1759000.0        3.0       8.0      2065.0   \n",
      "1      5058 Joyce St #401   928000.0        2.0       3.0       961.0   \n",
      "2            3651 Rae Ave  1250000.0        3.0       4.0      1300.0   \n",
      "3         2469 E 40th Ave  1399000.0        4.0       4.0      1437.0   \n",
      "4    4770 Duchess St #SL1  1049000.0        3.0       3.0      1086.0   \n",
      "..                    ...        ...        ...       ...         ...   \n",
      "105  2083 W 33rd Ave #402  1288000.0        2.0       3.0      1200.0   \n",
      "106       2849 W 18th Ave  2299000.0        4.0       5.0      2137.0   \n",
      "107       2815 W 19th Ave  2278000.0        4.0       4.0      1780.0   \n",
      "108    5626 Larch St #205   788000.0        2.0       2.0       962.0   \n",
      "109         5408 Larch St  1399000.0        3.0       2.0      1156.0   \n",
      "\n",
      "          homeType  ba_per_sqft  br_per_sqft    neighbourhoodName  ranking_ba  \\\n",
      "0    SINGLE_FAMILY     0.001453     0.003874  Renfrew-Collingwood          33   \n",
      "1            CONDO     0.002081     0.003122  Renfrew-Collingwood          21   \n",
      "2        TOWNHOUSE     0.002308     0.003077  Renfrew-Collingwood          18   \n",
      "3     MULTI_FAMILY     0.002784     0.002784  Renfrew-Collingwood           2   \n",
      "4        TOWNHOUSE     0.002762     0.002762  Renfrew-Collingwood           3   \n",
      "..             ...          ...          ...                  ...         ...   \n",
      "105          CONDO     0.001667     0.002500        Arbutus-Ridge          12   \n",
      "106  SINGLE_FAMILY     0.001872     0.002340        Arbutus-Ridge           6   \n",
      "107   MULTI_FAMILY     0.002247     0.002247        Arbutus-Ridge           2   \n",
      "108          CONDO     0.002079     0.002079        Arbutus-Ridge           3   \n",
      "109      TOWNHOUSE     0.002595     0.001730        Arbutus-Ridge           1   \n",
      "\n",
      "     ranking_br  \n",
      "0             1  \n",
      "1             2  \n",
      "2             3  \n",
      "3             6  \n",
      "4             7  \n",
      "..          ...  \n",
      "105           2  \n",
      "106           3  \n",
      "107           4  \n",
      "108           5  \n",
      "109          11  \n",
      "\n",
      "[110 rows x 11 columns]\n"
     ]
    }
   ],
   "source": [
    "print(query5_results)"
   ]
  },
  {
   "cell_type": "code",
   "execution_count": 68,
   "metadata": {},
   "outputs": [],
   "source": [
    "query5_results.to_csv('queries/Top3BdBaPerSqft.csv', index = False)"
   ]
  },
  {
   "cell_type": "code",
   "execution_count": 69,
   "metadata": {},
   "outputs": [],
   "source": [
    "# Average price, number of listings per neighbourhood\n",
    "\n",
    "AvgTotalNeighbourhood = \"\"\" \n",
    "\n",
    "\n",
    "SELECT\n",
    "    neighbourhoodName, count(*) as total_listings, avg(price) as avg_price\n",
    "FROM `zillow-houses-376821.zillow_houses.homeinfo`\n",
    "GROUP BY neighbourhoodName\n",
    "\n",
    "\n",
    "\"\"\"\n",
    "\n",
    "query6_results = client.query(AvgTotalNeighbourhood).to_dataframe()"
   ]
  },
  {
   "cell_type": "code",
   "execution_count": 70,
   "metadata": {},
   "outputs": [
    {
     "name": "stdout",
     "output_type": "stream",
     "text": [
      "           neighbourhoodName  total_listings     avg_price\n",
      "0                     Sunset              26  1.748780e+06\n",
      "1                    Marpole              21  3.211694e+06\n",
      "2                   Downtown             172  2.407403e+06\n",
      "3                   Fairview              50  1.166800e+06\n",
      "4                   Oakridge              20  3.853939e+06\n",
      "5                   West End              62  2.174114e+06\n",
      "6                  Killarney              27  9.708259e+05\n",
      "7                  Kitsilano              54  3.730285e+06\n",
      "8                 Kerrisdale              22  7.449991e+06\n",
      "9                 Riley Park              18  2.099633e+06\n",
      "10                Strathcona               4  1.133000e+06\n",
      "11               Shaughnessy              37  9.838837e+06\n",
      "12              South Cambie               8  2.789250e+06\n",
      "13             Arbutus-Ridge              28  3.805313e+06\n",
      "14            Mount Pleasant              33  1.215879e+06\n",
      "15           West Point Grey              33  8.711324e+06\n",
      "16          Hastings-Sunrise              22  1.580586e+06\n",
      "17         Dunbar-Southlands              29  4.856648e+06\n",
      "18        Grandview-Woodland              26  1.510865e+06\n",
      "19       Renfrew-Collingwood              38  1.151239e+06\n",
      "20       Victoria-Fraserview              18  2.106539e+06\n",
      "21  Kensington-Cedar Cottage              51  1.681158e+06\n"
     ]
    }
   ],
   "source": [
    "print(query6_results)"
   ]
  },
  {
   "cell_type": "code",
   "execution_count": 71,
   "metadata": {},
   "outputs": [],
   "source": [
    "query6_results.to_csv('queries/AvgTotalNeighbourhood.csv', index = False)"
   ]
  },
  {
   "cell_type": "code",
   "execution_count": 74,
   "metadata": {},
   "outputs": [],
   "source": [
    "# Lowest price by combinations of bedroom and bathrooms\n",
    "\n",
    "LowestPriceBrBa = \"\"\" \n",
    "\n",
    "WITH ranking_low_price AS (\n",
    "SELECT\n",
    "    streetAddress, bathrooms, bedrooms, price, \n",
    "    livingArea, homeType, neighbourhoodName,\n",
    "    rank() OVER (PARTITION BY CAST(bathrooms as STRING), \n",
    "        CAST(bedrooms as STRING)\n",
    "                        ORDER BY price) as ranking\n",
    "FROM `zillow-houses-376821.zillow_houses.homeinfo`\n",
    ")\n",
    "\n",
    "SELECT \n",
    "    * \n",
    "    FROM ranking_low_price\n",
    "    WHERE ranking = 1\n",
    "\n",
    "\n",
    "\"\"\"\n",
    "\n",
    "query7_results = client.query(LowestPriceBrBa).to_dataframe()"
   ]
  },
  {
   "cell_type": "code",
   "execution_count": 75,
   "metadata": {},
   "outputs": [
    {
     "name": "stdout",
     "output_type": "stream",
     "text": [
      "             streetAddress  bathrooms  bedrooms       price  livingArea  \\\n",
      "0          1188 W 55th Ave       12.0       8.0  28880000.0     15371.0   \n",
      "1    289 Alexander St #808        2.0       1.0    798000.0       790.0   \n",
      "2          2026 E 32nd Ave        7.0       8.0   2888000.0      2674.0   \n",
      "3         1965 Ferndale St        0.0       3.0   1049000.0      1470.0   \n",
      "4        6869 Beechwood St       10.0       8.0   9998000.0      7889.0   \n",
      "..                     ...        ...       ...         ...         ...   \n",
      "58  1415 W Georgia St #113        0.0       0.0    100000.0       200.0   \n",
      "59         1067 E 14th Ave        2.0       5.0   1588000.0      2160.0   \n",
      "60         3255 W 26th Ave        7.0       5.0   5980000.0      4442.0   \n",
      "61          727 E 39th Ave        3.0       9.0   1700000.0      2880.0   \n",
      "62        3206 Carolina St        5.0       6.0   2198000.0      2680.0   \n",
      "\n",
      "         homeType         neighbourhoodName  ranking  \n",
      "0   SINGLE_FAMILY                  Oakridge        1  \n",
      "1           CONDO                Strathcona        1  \n",
      "2   SINGLE_FAMILY  Kensington-Cedar Cottage        1  \n",
      "3   SINGLE_FAMILY        Grandview-Woodland        1  \n",
      "4   SINGLE_FAMILY                Kerrisdale        1  \n",
      "..            ...                       ...      ...  \n",
      "58  SINGLE_FAMILY                  Downtown        1  \n",
      "59  SINGLE_FAMILY            Mount Pleasant        1  \n",
      "60  SINGLE_FAMILY         Dunbar-Southlands        1  \n",
      "61  SINGLE_FAMILY  Kensington-Cedar Cottage        1  \n",
      "62  SINGLE_FAMILY                Riley Park        1  \n",
      "\n",
      "[63 rows x 8 columns]\n"
     ]
    }
   ],
   "source": [
    "print(query7_results)"
   ]
  },
  {
   "cell_type": "code",
   "execution_count": 76,
   "metadata": {},
   "outputs": [],
   "source": [
    "query7_results.to_csv('queries/LowestPriceBrBa.csv', index = False)"
   ]
  },
  {
   "cell_type": "code",
   "execution_count": null,
   "metadata": {},
   "outputs": [],
   "source": []
  }
 ],
 "metadata": {
  "kernelspec": {
   "display_name": "vanhouse",
   "language": "python",
   "name": "python3"
  },
  "language_info": {
   "codemirror_mode": {
    "name": "ipython",
    "version": 3
   },
   "file_extension": ".py",
   "mimetype": "text/x-python",
   "name": "python",
   "nbconvert_exporter": "python",
   "pygments_lexer": "ipython3",
   "version": "3.10.9"
  },
  "orig_nbformat": 4,
  "vscode": {
   "interpreter": {
    "hash": "d647ffe7d38ceba2ddbc0d41259d8c3741839d2e0ea0847e5b497e9ca8c27d20"
   }
  }
 },
 "nbformat": 4,
 "nbformat_minor": 2
}

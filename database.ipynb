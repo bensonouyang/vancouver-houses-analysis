{
 "cells": [
  {
   "cell_type": "code",
   "execution_count": 4,
   "metadata": {},
   "outputs": [],
   "source": [
    "import pandas as pd"
   ]
  },
  {
   "cell_type": "code",
   "execution_count": 5,
   "metadata": {},
   "outputs": [],
   "source": [
    "df = pd.read_csv('finaldataset.csv')\n"
   ]
  },
  {
   "cell_type": "code",
   "execution_count": 47,
   "metadata": {},
   "outputs": [],
   "source": [
    "# df.head()"
   ]
  },
  {
   "cell_type": "code",
   "execution_count": 46,
   "metadata": {},
   "outputs": [],
   "source": [
    "# list(df.columns)"
   ]
  },
  {
   "cell_type": "code",
   "execution_count": 42,
   "metadata": {},
   "outputs": [],
   "source": [
    "# Gathering the types of each column and appending BigQuery datatype to list\n",
    "type_list = []\n",
    "\n",
    "for column in df.columns:\n",
    "    if df[column].dtype == 'object':\n",
    "        type_list.append(\"STRING\")\n",
    "    elif df[column].dtype == 'float64':\n",
    "        type_list.append(\"FLOAT64\")\n",
    "    else:\n",
    "        type_list.append(\"INTEGER\")"
   ]
  },
  {
   "cell_type": "code",
   "execution_count": 13,
   "metadata": {},
   "outputs": [],
   "source": [
    "# Gathering every column name\n",
    "field_list = list(df.columns)"
   ]
  },
  {
   "cell_type": "code",
   "execution_count": 2,
   "metadata": {},
   "outputs": [],
   "source": [
    "# https://www.rudderstack.com/guides/how-to-access-and-query-your-bigquery-data-using-python-and-r/\n",
    "from google.cloud import bigquery\n",
    "from google.oauth2 import service_account"
   ]
  },
  {
   "cell_type": "code",
   "execution_count": 3,
   "metadata": {},
   "outputs": [],
   "source": [
    "# Key.json contains information for service account to connect to BigQuery API\n",
    "credentials = service_account.Credentials.from_service_account_file('key.json')\n",
    "project_id = 'zillow-houses-376821'\n",
    "client = bigquery.Client(credentials = credentials, project = project_id)"
   ]
  },
  {
   "cell_type": "code",
   "execution_count": 14,
   "metadata": {},
   "outputs": [],
   "source": [
    "# https://medium.com/pipeline-a-data-engineering-resource/automate-your-bigquery-schema-definitions-with-5-lines-of-python-7a1996749718\n",
    "# Automate schema creation\n",
    "\n",
    "def create_schema(field_list:list, type_list:list):\n",
    "    schema_list = []\n",
    "    for fields, types in zip(field_list, type_list):\n",
    "        schema = bigquery.SchemaField(fields, types)\n",
    "        schema_list.append(schema)\n",
    "    return schema_list"
   ]
  },
  {
   "cell_type": "code",
   "execution_count": null,
   "metadata": {},
   "outputs": [],
   "source": [
    "# Manual schema creation\n",
    "\n",
    "# schema = [\n",
    "#     bigquery.SchemaField(\"zpid\", \"INTEGER\"),\n",
    "#     bigquery.SchemaField(\"streetAddress\", \"STRING\"),\n",
    "#     bigquery.SchemaField(\"zipcode\", \"STRING\"),\n",
    "#     bigquery.SchemaField(\"city\", \"STRING\"),\n",
    "#     bigquery.SchemaField(\"state\",\"STRING\"),\n",
    "#     bigquery.SchemaField(\"latitude\", \"NUMERIC\"),\n",
    "#     bigquery.SchemaField(\"longitude\", \"NUMERIC\"),\n",
    "#     bigquery.SchemaField(\"price\", \"INTEGER\"),\n",
    "#     bigquery.SchemaField(\"bathrooms\", \"FLOAT64\"),\n",
    "#     bigquery.SchemaField(\"bedrooms\", \"FLOAT64\"),\n",
    "#     bigquery.SchemaField(\"livingArea\", \"FLOAT64\"),\n",
    "#     bigquery.SchemaField(\"homeType\", \"STRING\"),\n",
    "#     bigquery.SchemaField(\"taxAssessedValue\", \"FLOAT64\"),\n",
    "#     bigquery.SchemaField(\"brokerName\", \"STRING\")\n",
    "# ]"
   ]
  },
  {
   "cell_type": "code",
   "execution_count": 45,
   "metadata": {},
   "outputs": [],
   "source": [
    "# create_schema(field_list,type_list)"
   ]
  },
  {
   "cell_type": "code",
   "execution_count": 39,
   "metadata": {},
   "outputs": [],
   "source": [
    "# Function to load dataframe into BigQuery\n",
    "\n",
    "def bq_load(df, dataset_id: str, table_id: str, schema, client):\n",
    "    bq_client = client\n",
    "    dataset_ref = bq_client.dataset(dataset_id)\n",
    "    dataset_table_id = dataset_ref.table(table_id)\n",
    "    \n",
    "    job_config = bigquery.LoadJobConfig()\n",
    "    job_config.write_disposition='WRITE_TRUNCATE'\n",
    "    job_config.source_format = bigquery.SourceFormat.CSV\n",
    "    job_config.autodetect=False\n",
    "    # Calling create_schema()\n",
    "    job_config.schema = schema\n",
    "    job_config.ignore_unknown_values=False\n",
    "    job = client.load_table_from_dataframe(df,\n",
    "    table_id,\n",
    "    location='US',\n",
    "    job_config=job_config)\n",
    "    \n",
    "    return job.result()"
   ]
  },
  {
   "cell_type": "code",
   "execution_count": 43,
   "metadata": {},
   "outputs": [],
   "source": [
    "df_to_bq = bq_load(df, \"zillow_houses\", \"zillow-houses-376821.zillow_houses.vancouverhouses\", create_schema(field_list,type_list), client)"
   ]
  },
  {
   "cell_type": "code",
   "execution_count": 48,
   "metadata": {},
   "outputs": [
    {
     "name": "stdout",
     "output_type": "stream",
     "text": [
      "        homeType\n",
      "0            LOT\n",
      "1      APARTMENT\n",
      "2          CONDO\n",
      "3      TOWNHOUSE\n",
      "4   MULTI_FAMILY\n",
      "5  SINGLE_FAMILY\n"
     ]
    }
   ],
   "source": [
    "# Testing query\n",
    "\n",
    "initial_query = \"\"\" \n",
    "\n",
    "SELECT distinct homeType FROM `zillow-houses-376821.zillow_houses.vancouverhouses`\n",
    "\n",
    "\"\"\"\n",
    "\n",
    "query_results = client.query(initial_query).to_dataframe()\n",
    "\n",
    "print(query_results)"
   ]
  },
  {
   "cell_type": "code",
   "execution_count": null,
   "metadata": {},
   "outputs": [],
   "source": []
  }
 ],
 "metadata": {
  "kernelspec": {
   "display_name": "vanhouse",
   "language": "python",
   "name": "python3"
  },
  "language_info": {
   "codemirror_mode": {
    "name": "ipython",
    "version": 3
   },
   "file_extension": ".py",
   "mimetype": "text/x-python",
   "name": "python",
   "nbconvert_exporter": "python",
   "pygments_lexer": "ipython3",
   "version": "3.10.9"
  },
  "orig_nbformat": 4,
  "vscode": {
   "interpreter": {
    "hash": "d647ffe7d38ceba2ddbc0d41259d8c3741839d2e0ea0847e5b497e9ca8c27d20"
   }
  }
 },
 "nbformat": 4,
 "nbformat_minor": 2
}

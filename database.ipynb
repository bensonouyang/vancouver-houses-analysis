{
 "cells": [
  {
   "cell_type": "code",
   "execution_count": 10,
   "metadata": {},
   "outputs": [],
   "source": [
    "from google.cloud import bigquery\n",
    "from google.oauth2 import service_account\n",
    "import pandas as pd"
   ]
  },
  {
   "cell_type": "code",
   "execution_count": 4,
   "metadata": {},
   "outputs": [],
   "source": [
    "# Key.json contains information for service account to connect to BigQuery API\n",
    "credentials = service_account.Credentials.from_service_account_file('key.json')\n",
    "project_id = 'zillow-houses-376821'\n",
    "client = bigquery.Client(credentials = credentials, project = project_id)"
   ]
  },
  {
   "cell_type": "code",
   "execution_count": 9,
   "metadata": {},
   "outputs": [],
   "source": [
    "# https://medium.com/pipeline-a-data-engineering-resource/automate-your-bigquery-schema-definitions-with-5-lines-of-python-7a1996749718\n",
    "# Automate schema creation\n",
    "\n",
    "def create_schema(field_list:list, type_list:list):\n",
    "    schema_list = []\n",
    "    for fields, types in zip(field_list, type_list):\n",
    "        schema = bigquery.SchemaField(fields, types)\n",
    "        schema_list.append(schema)\n",
    "    return schema_list\n",
    "\n",
    "# Function to load dataframe into BigQuery\n",
    "\n",
    "def bq_load(df, dataset_id: str, table_id: str, schema, client):\n",
    "    bq_client = client\n",
    "    dataset_ref = bq_client.dataset(dataset_id)\n",
    "    dataset_table_id = dataset_ref.table(table_id)\n",
    "    \n",
    "    job_config = bigquery.LoadJobConfig()\n",
    "    job_config.write_disposition='WRITE_TRUNCATE'\n",
    "    job_config.source_format = bigquery.SourceFormat.CSV\n",
    "    job_config.autodetect=False\n",
    "    # Calling create_schema()\n",
    "    job_config.schema = schema\n",
    "    job_config.ignore_unknown_values=False\n",
    "    job = client.load_table_from_dataframe(df,\n",
    "    table_id,\n",
    "    location='US',\n",
    "    job_config=job_config)\n",
    "    \n",
    "    return job.result()"
   ]
  },
  {
   "cell_type": "code",
   "execution_count": null,
   "metadata": {},
   "outputs": [],
   "source": [
    "# Manual schema creation\n",
    "\n",
    "# schema = [\n",
    "#     bigquery.SchemaField(\"zpid\", \"INTEGER\"),\n",
    "#     bigquery.SchemaField(\"streetAddress\", \"STRING\"),\n",
    "#     bigquery.SchemaField(\"zipcode\", \"STRING\"),\n",
    "#     bigquery.SchemaField(\"city\", \"STRING\"),\n",
    "#     bigquery.SchemaField(\"state\",\"STRING\"),\n",
    "#     bigquery.SchemaField(\"latitude\", \"NUMERIC\"),\n",
    "#     bigquery.SchemaField(\"longitude\", \"NUMERIC\"),\n",
    "#     bigquery.SchemaField(\"price\", \"INTEGER\"),\n",
    "#     bigquery.SchemaField(\"bathrooms\", \"FLOAT64\"),\n",
    "#     bigquery.SchemaField(\"bedrooms\", \"FLOAT64\"),\n",
    "#     bigquery.SchemaField(\"livingArea\", \"FLOAT64\"),\n",
    "#     bigquery.SchemaField(\"homeType\", \"STRING\"),\n",
    "#     bigquery.SchemaField(\"taxAssessedValue\", \"FLOAT64\"),\n",
    "#     bigquery.SchemaField(\"brokerName\", \"STRING\")\n",
    "# ]"
   ]
  },
  {
   "cell_type": "code",
   "execution_count": 43,
   "metadata": {},
   "outputs": [],
   "source": [
    "# df_to_bq = bq_load(df, \"zillow_houses\", \"zillow-houses-376821.zillow_houses.vancouverhouses\", create_schema(field_list,type_list), client)"
   ]
  },
  {
   "cell_type": "code",
   "execution_count": 11,
   "metadata": {},
   "outputs": [],
   "source": [
    "df = pd.read_csv('reviseddataset.csv')"
   ]
  },
  {
   "cell_type": "code",
   "execution_count": 15,
   "metadata": {},
   "outputs": [],
   "source": [
    "df = df.rename(columns = {'newAddress':'addressWithoutUnit'})"
   ]
  },
  {
   "cell_type": "code",
   "execution_count": 16,
   "metadata": {},
   "outputs": [
    {
     "data": {
      "text/plain": [
       "Index(['zpid', 'streetAddress', 'zipcode', 'city', 'state', 'latitude',\n",
       "       'longitude', 'price', 'bathrooms', 'bedrooms', 'livingArea', 'homeType',\n",
       "       'taxAssessedValue', 'lotAreaValue', 'brokerName', 'neighbourhoodName',\n",
       "       'addressWithoutUnit'],\n",
       "      dtype='object')"
      ]
     },
     "execution_count": 16,
     "metadata": {},
     "output_type": "execute_result"
    }
   ],
   "source": [
    "df.columns"
   ]
  },
  {
   "cell_type": "code",
   "execution_count": 18,
   "metadata": {},
   "outputs": [],
   "source": [
    "location = df[['zpid', 'streetAddress', 'zipcode', 'city', 'state', 'latitude', 'longitude','addressWithoutUnit']]\n",
    "homeinfo = df[['streetAddress', 'price', 'bathrooms', 'bedrooms', 'livingArea', 'homeType', 'taxAssessedValue', 'lotAreaValue', 'neighbourhoodName']]\n",
    "brokerageinfo = df[['zpid','brokerName']]"
   ]
  },
  {
   "cell_type": "code",
   "execution_count": 19,
   "metadata": {},
   "outputs": [],
   "source": [
    "# Gathering the types of each column and appending BigQuery datatype to list\n",
    "\n",
    "def type_list_generator(df):\n",
    "    type_list = []\n",
    "\n",
    "    for column in df.columns:\n",
    "        if df[column].dtype == 'object':\n",
    "            type_list.append(\"STRING\")\n",
    "        elif df[column].dtype == 'float64':\n",
    "            type_list.append(\"FLOAT64\")\n",
    "        else:\n",
    "            type_list.append(\"INTEGER\")\n",
    "    return type_list\n",
    "\n",
    "# Gathering every column name\n",
    "def field_list_generator(df):\n",
    "    field_list = list(df.columns)\n",
    "    return field_list"
   ]
  },
  {
   "cell_type": "code",
   "execution_count": 22,
   "metadata": {},
   "outputs": [],
   "source": [
    "# load relations to bigQuery\n",
    "\n",
    "location_to_bq = bq_load(location, \"zillow_houses\", \"zillow-houses-376821.zillow_houses.location\", \n",
    "                         create_schema(field_list_generator(location),type_list_generator(location)), client)\n",
    "\n",
    "homeinfo_to_bq = bq_load(homeinfo, \"zillow_houses\", \"zillow-houses-376821.zillow_houses.homeinfo\", \n",
    "                         create_schema(field_list_generator(homeinfo),type_list_generator(homeinfo)), client)\n",
    "\n",
    "brokerageinfo_to_bq = bq_load(brokerageinfo, \"zillow_houses\", \"zillow-houses-376821.zillow_houses.brokerageinfo\", \n",
    "                              create_schema(field_list_generator(brokerageinfo),type_list_generator(brokerageinfo)), client)"
   ]
  },
  {
   "cell_type": "code",
   "execution_count": 23,
   "metadata": {},
   "outputs": [
    {
     "name": "stdout",
     "output_type": "stream",
     "text": [
      "         zpid            streetAddress zipcode       city state   latitude  \\\n",
      "0   314396616           2973 McGill St  V5K1H8  Vancouver    BC  49.289010   \n",
      "1   314397260           2565 Dundas St  V5K1P7  Vancouver    BC  49.285038   \n",
      "2   314397306           2697 Dundas St  V5K1R1  Vancouver    BC  49.285027   \n",
      "3   314398013         3466 Franklin St  V5K1Y3  Vancouver    BC  49.281788   \n",
      "4   314398017         3467 Franklin St  V5K1Y4  Vancouver    BC  49.282303   \n",
      "5   314398025         3495 Franklin St  V5K1Y4  Vancouver    BC  49.282300   \n",
      "6  2059767952  2741 Hastings St E #303  V5K1Z8  Vancouver    BC  49.281414   \n",
      "7  2059768478        3537 Georgia St E  V5K2J4  Vancouver    BC  49.278503   \n",
      "8  2060865873     3523 Georgia St E #2  V5K2L9  Vancouver    BC  49.278477   \n",
      "9   314399067           2447 Adanac St  V5K2M3  Vancouver    BC  49.277690   \n",
      "\n",
      "    longitude   addressWithoutUnit  \n",
      "0 -123.042404       2973 McGill St  \n",
      "1 -123.052950       2565 Dundas St  \n",
      "2 -123.049650       2697 Dundas St  \n",
      "3 -123.029305     3466 Franklin St  \n",
      "4 -123.029175     3467 Franklin St  \n",
      "5 -123.028620     3495 Franklin St  \n",
      "6 -123.048355  2741 Hastings St E   \n",
      "7 -123.056305    3537 Georgia St E  \n",
      "8 -123.027530   3523 Georgia St E   \n",
      "9 -123.055460       2447 Adanac St  \n"
     ]
    }
   ],
   "source": [
    "# Testing query\n",
    "\n",
    "initial_query = \"\"\" \n",
    "\n",
    "SELECT * FROM `zillow-houses-376821.zillow_houses.location` LIMIT 10\n",
    "\n",
    "\"\"\"\n",
    "\n",
    "query_results = client.query(initial_query).to_dataframe()\n",
    "\n",
    "print(query_results)"
   ]
  },
  {
   "cell_type": "code",
   "execution_count": 36,
   "metadata": {},
   "outputs": [],
   "source": [
    "# Top 5 lowest $/sq ft per neighbourhood\n",
    "\n",
    "top5lowestpricepersqft = \"\"\" \n",
    "\n",
    "WITH dollar_sqft_calculations AS (\n",
    "    SELECT streetAddress, neighbourhoodName, \n",
    "    bathrooms, bedrooms,\n",
    "    price, livingArea, homeType, round(price/livingArea,2) as dollarPerSqFt\n",
    "    FROM `zillow-houses-376821.zillow_houses.homeinfo`\n",
    "    WHERE livingArea != 0 and price != 0\n",
    "),\n",
    "ranking_dollarpersq AS (\n",
    "    SELECT *, \n",
    "    rank() over (PARTITION BY neighbourhoodName ORDER BY dollarPerSqFt) as ranking\n",
    "    FROM dollar_sqft_calculations\n",
    ")\n",
    "\n",
    "SELECT * FROM ranking_dollarpersq WHERE ranking <= 5 \n",
    "\n",
    "\"\"\"\n",
    "\n",
    "query_results = client.query(top5lowestpricepersqft).to_dataframe()\n",
    "\n"
   ]
  },
  {
   "cell_type": "code",
   "execution_count": 37,
   "metadata": {},
   "outputs": [
    {
     "name": "stdout",
     "output_type": "stream",
     "text": [
      "                   streetAddress neighbourhoodName  bathrooms  bedrooms  \\\n",
      "0                 1055 Wolfe Ave       Shaughnessy        5.0       8.0   \n",
      "1             1056 Richelieu Ave       Shaughnessy        3.0       5.0   \n",
      "2    1011 King Edward Ave W #201       Shaughnessy        2.0       2.0   \n",
      "3                  4549 Osler St       Shaughnessy        6.0       6.0   \n",
      "4                  5290 Angus Dr       Shaughnessy        4.0       6.0   \n",
      "..                           ...               ...        ...       ...   \n",
      "104          3445 E 49th Ave #98            Sunset        2.0       4.0   \n",
      "105              1322 E 62nd Ave            Sunset        6.0       6.0   \n",
      "106              1045 E 63rd Ave            Sunset        4.0       6.0   \n",
      "107               268 E 65th Ave            Sunset        3.0       5.0   \n",
      "108               320 E 57th Ave            Sunset        3.0       5.0   \n",
      "\n",
      "         price  livingArea       homeType  dollarPerSqFt  ranking  \n",
      "0    4988000.0      5765.0  SINGLE_FAMILY         865.22        1  \n",
      "1    4450000.0      5143.0  SINGLE_FAMILY         865.25        2  \n",
      "2     799900.0       902.0          CONDO         886.81        3  \n",
      "3    4998000.0      5327.0  SINGLE_FAMILY         938.24        4  \n",
      "4    3999000.0      3764.0  SINGLE_FAMILY        1062.43        5  \n",
      "..         ...         ...            ...            ...      ...  \n",
      "104   833000.0      1393.0      TOWNHOUSE         597.99        1  \n",
      "105  2388000.0      3955.0  SINGLE_FAMILY         603.79        2  \n",
      "106  1699000.0      2800.0  SINGLE_FAMILY         606.79        3  \n",
      "107  1649000.0      2632.0  SINGLE_FAMILY         626.52        4  \n",
      "108  1675000.0      2453.0  SINGLE_FAMILY         682.84        5  \n",
      "\n",
      "[109 rows x 9 columns]\n"
     ]
    }
   ],
   "source": [
    "print(query_results)"
   ]
  },
  {
   "cell_type": "code",
   "execution_count": 38,
   "metadata": {},
   "outputs": [],
   "source": [
    "query_results.to_csv('queries/Top5LowestDollarPerSqft.csv', index = False)"
   ]
  },
  {
   "cell_type": "code",
   "execution_count": 35,
   "metadata": {},
   "outputs": [],
   "source": [
    "# Top 3 highest price per neighbourhood\n",
    "\n",
    "top3highestprice = \"\"\" \n",
    "\n",
    "WITH top_3_rank AS (\n",
    "    SELECT streetAddress, neighbourhoodName, \n",
    "    bathrooms, bedrooms,\n",
    "    price, livingArea, homeType, \n",
    "    round(price/livingArea,2) as dollarPerSqFt,\n",
    "    rank() over (PARTITION BY neighbourhoodName ORDER BY price DESC) as ranking\n",
    "    FROM `zillow-houses-376821.zillow_houses.homeinfo`\n",
    "    WHERE livingArea != 0 and price != 0\n",
    ")\n",
    "\n",
    "SELECT * FROM top_3_rank WHERE ranking <= 3 \n",
    "\n",
    "\"\"\"\n",
    "\n",
    "query2_results = client.query(top3highestprice).to_dataframe()"
   ]
  },
  {
   "cell_type": "code",
   "execution_count": 39,
   "metadata": {},
   "outputs": [
    {
     "name": "stdout",
     "output_type": "stream",
     "text": [
      "            streetAddress         neighbourhoodName  bathrooms  bedrooms  \\\n",
      "0      3439 Point Grey Rd                 Kitsilano        4.0       4.0   \n",
      "1      2529 Point Grey Rd                 Kitsilano        3.0       3.0   \n",
      "2      2487 Point Grey Rd                 Kitsilano        5.0       4.0   \n",
      "3        1351 Laurier Ave               Shaughnessy        8.0       5.0   \n",
      "4           1738 Angus Dr               Shaughnessy        7.0       4.0   \n",
      "..                    ...                       ...        ...       ...   \n",
      "62        2026 E 32nd Ave  Kensington-Cedar Cottage        7.0       8.0   \n",
      "63     5059 Sherbrooke St  Kensington-Cedar Cottage        5.0       5.0   \n",
      "64         692 W 39th Ave              South Cambie        2.0       4.0   \n",
      "65  846 King Edward Ave W              South Cambie        5.0       6.0   \n",
      "66    5289 Cambie St #601              South Cambie        3.0       4.0   \n",
      "\n",
      "         price  livingArea       homeType  dollarPerSqFt  ranking  \n",
      "0   24988000.0      5475.0  SINGLE_FAMILY        4564.02        1  \n",
      "1   22500000.0      4309.0  SINGLE_FAMILY        5221.63        2  \n",
      "2   18500000.0      4878.0  SINGLE_FAMILY        3792.54        3  \n",
      "3   26800000.0      8824.0  SINGLE_FAMILY        3037.17        1  \n",
      "4   24998000.0      7984.0  SINGLE_FAMILY        3131.01        2  \n",
      "..         ...         ...            ...            ...      ...  \n",
      "62   2888000.0      2674.0  SINGLE_FAMILY        1080.03        2  \n",
      "63   2799000.0      2308.0  SINGLE_FAMILY        1212.74        3  \n",
      "64   6780000.0      2452.0  SINGLE_FAMILY        2765.09        1  \n",
      "65   4200000.0      4328.0  SINGLE_FAMILY         970.43        2  \n",
      "66   3280000.0      1935.0          CONDO        1695.09        3  \n",
      "\n",
      "[67 rows x 9 columns]\n"
     ]
    }
   ],
   "source": [
    "print(query2_results)"
   ]
  },
  {
   "cell_type": "code",
   "execution_count": 40,
   "metadata": {},
   "outputs": [],
   "source": [
    "query2_results.to_csv('queries/Top3HighestPrice.csv', index = False)"
   ]
  },
  {
   "cell_type": "code",
   "execution_count": 41,
   "metadata": {},
   "outputs": [],
   "source": [
    "# Top 3 lowest price per neighbourhood\n",
    "\n",
    "top3lowestprice = \"\"\" \n",
    "\n",
    "WITH top_3_rank AS (\n",
    "    SELECT streetAddress, neighbourhoodName, \n",
    "    bathrooms, bedrooms,\n",
    "    price, livingArea, homeType, \n",
    "    round(price/livingArea,2) as dollarPerSqFt,\n",
    "    rank() over (PARTITION BY neighbourhoodName ORDER BY price) as ranking\n",
    "    FROM `zillow-houses-376821.zillow_houses.homeinfo`\n",
    "    WHERE livingArea != 0 and price != 0\n",
    ")\n",
    "\n",
    "SELECT * FROM top_3_rank WHERE ranking <= 3 \n",
    "\n",
    "\"\"\"\n",
    "\n",
    "query3_results = client.query(top3lowestprice).to_dataframe()"
   ]
  },
  {
   "cell_type": "code",
   "execution_count": 42,
   "metadata": {},
   "outputs": [
    {
     "name": "stdout",
     "output_type": "stream",
     "text": [
      "           streetAddress    neighbourhoodName  bathrooms  bedrooms      price  \\\n",
      "0   1055 Broadway E #204             Fairview        1.0       1.0   550000.0   \n",
      "1   1551 W 11th Ave #208             Fairview        1.0       1.0   555000.0   \n",
      "2   1216 W 11th Ave #206             Fairview        1.0       1.0   558000.0   \n",
      "3      2224 Eton St #103   Grandview-Woodland        1.0       0.0   434000.0   \n",
      "4    1533 E 8th Ave #101   Grandview-Woodland        1.0       1.0   649900.0   \n",
      "..                   ...                  ...        ...       ...        ...   \n",
      "62      8469 Portside Ct  Victoria-Fraserview        3.0       3.0  1088000.0   \n",
      "63     1980 E Kent Ave S  Victoria-Fraserview        3.0       3.0  1089000.0   \n",
      "64   2580 Tolmie St #504      West Point Grey        1.0       1.0   688000.0   \n",
      "65   3755 W 8th Ave #213      West Point Grey        2.0       2.0  1458000.0   \n",
      "66       2460 Sasamat St      West Point Grey        3.0       2.0  1650000.0   \n",
      "\n",
      "    livingArea   homeType  dollarPerSqFt  ranking  \n",
      "0        518.0      CONDO        1061.78        1  \n",
      "1        685.0      CONDO         810.22        2  \n",
      "2        865.0      CONDO         645.09        3  \n",
      "3        435.0      CONDO         997.70        1  \n",
      "4        595.0      CONDO        1092.27        2  \n",
      "..         ...        ...            ...      ...  \n",
      "62      1691.0  TOWNHOUSE         643.41        2  \n",
      "63      1393.0  TOWNHOUSE         781.77        3  \n",
      "64       808.0      CONDO         851.49        1  \n",
      "65      1568.0      CONDO         929.85        2  \n",
      "66      1556.0  TOWNHOUSE        1060.41        3  \n",
      "\n",
      "[67 rows x 9 columns]\n"
     ]
    }
   ],
   "source": [
    "print(query3_results)"
   ]
  },
  {
   "cell_type": "code",
   "execution_count": 43,
   "metadata": {},
   "outputs": [],
   "source": [
    "query3_results.to_csv('queries/Top3LowestPrice.csv', index = False)"
   ]
  },
  {
   "cell_type": "code",
   "execution_count": null,
   "metadata": {},
   "outputs": [],
   "source": []
  }
 ],
 "metadata": {
  "kernelspec": {
   "display_name": "vanhouse",
   "language": "python",
   "name": "python3"
  },
  "language_info": {
   "codemirror_mode": {
    "name": "ipython",
    "version": 3
   },
   "file_extension": ".py",
   "mimetype": "text/x-python",
   "name": "python",
   "nbconvert_exporter": "python",
   "pygments_lexer": "ipython3",
   "version": "3.10.9"
  },
  "orig_nbformat": 4,
  "vscode": {
   "interpreter": {
    "hash": "d647ffe7d38ceba2ddbc0d41259d8c3741839d2e0ea0847e5b497e9ca8c27d20"
   }
  }
 },
 "nbformat": 4,
 "nbformat_minor": 2
}
